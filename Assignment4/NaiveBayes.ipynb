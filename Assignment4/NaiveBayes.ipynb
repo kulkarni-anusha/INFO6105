{
 "cells": [
  {
   "cell_type": "markdown",
   "id": "249b6872",
   "metadata": {},
   "source": [
    "1. What assumptions are made about the attributes in Naïve Bayes method of classification and why? \n",
    "What is Laplacian correction and why it is necessary?\n",
    "\n",
    "Ans: The Naïve Bayes classifier is a supervised machine learning algorithm, which is used for classification tasks, like text classification. This method makes a key assumption about the independence of the features or attributes used in the classification. This assumption is \"naïve\" because it assumes that the presence or absence of a particular feature is independent of the presence or absence of other features, given the class label. It also assumes that all features contribute equally to the outcome. \n",
    "\n",
    "For example, in a text classification task, if you're trying to classify emails as spam or not spam, Naïve Bayes assumes that the occurrence of individual words in the email is independent of each other, given the information about whether the email is spam or not.\n",
    "\n",
    "This assumption simplifies the computation of probabilities and makes the algorithm computationally efficient. However, in real-world data, features are often correlated, and this independence assumption may not hold true. Despite this simplification, Naïve Bayes often performs well in practice, especially in text classification tasks, where the independence assumption may not be too far from reality.\n",
    "\n",
    "Laplace correction, also known as Laplacian smoothing or add-one smoothing, is a technique used to handle the problem of zero probabilities in Bayesian statistics, particularly in the context of Naive Bayes classifiers. \n",
    "\n",
    "In the context of Naive Bayes classifiers, Laplace correction is applied when estimating probabilities from the training data. The issue arises when a particular feature value in the dataset has not been observed with a certain class label. In such cases, the probability estimation for that feature given the class becomes zero, which can lead to problems during classification, especially when combining probabilities in a Naive Bayes model.\n",
    "\n",
    "Laplace correction involves adding a small, non-zero constant (usually 1) to all the observed counts to avoid zero probabilities. The idea is to \"smooth\" the probability estimates and prevent the model from being overly confident in its predictions based on limited data. "
   ]
  },
  {
   "cell_type": "markdown",
   "id": "8c624217",
   "metadata": {},
   "source": [
    "### Use Naïve Bayes algorithm from scratch for the following questions."
   ]
  },
  {
   "cell_type": "markdown",
   "id": "b1a65d1d",
   "metadata": {},
   "source": [
    "2. Take the iris data. Use Naïve Bayes algorithm to find the species with the following two observations.\n",
    "\n",
    "[4.5 3.0 5.6 2.1; 5.4 2.6 4.5 0.0]\n",
    "\n",
    "Show various steps involved and do as explained in the class."
   ]
  },
  {
   "cell_type": "code",
   "execution_count": 1,
   "id": "2eccda5e",
   "metadata": {},
   "outputs": [],
   "source": [
    "# Import necessary libraries and load the iris dataset\n",
    "from sklearn import datasets\n",
    "import numpy as np\n",
    "import pandas as pd\n",
    "from sklearn.model_selection import train_test_split\n",
    "from sklearn.naive_bayes import GaussianNB\n",
    "from sklearn.metrics import accuracy_score, confusion_matrix, classification_report"
   ]
  },
  {
   "cell_type": "code",
   "execution_count": 2,
   "id": "098bc914",
   "metadata": {},
   "outputs": [],
   "source": [
    "# Load the iris dataset\n",
    "iris = datasets.load_iris()\n",
    "X = iris.data\n",
    "y = iris.target"
   ]
  },
  {
   "cell_type": "code",
   "execution_count": 3,
   "id": "d6d94bdf",
   "metadata": {},
   "outputs": [
    {
     "data": {
      "text/plain": [
       "dict_keys(['data', 'target', 'frame', 'target_names', 'DESCR', 'feature_names', 'filename', 'data_module'])"
      ]
     },
     "execution_count": 3,
     "metadata": {},
     "output_type": "execute_result"
    }
   ],
   "source": [
    "# Print aspects of the dataset\n",
    "iris.keys()"
   ]
  },
  {
   "cell_type": "code",
   "execution_count": 4,
   "id": "d04712b4",
   "metadata": {},
   "outputs": [
    {
     "name": "stdout",
     "output_type": "stream",
     "text": [
      "['setosa' 'versicolor' 'virginica']\n"
     ]
    }
   ],
   "source": [
    "# Print classes/species\n",
    "target_names=iris.target_names\n",
    "print(target_names)"
   ]
  },
  {
   "cell_type": "code",
   "execution_count": 5,
   "id": "9fe4f49d",
   "metadata": {},
   "outputs": [
    {
     "data": {
      "text/plain": [
       "['sepal length (cm)',\n",
       " 'sepal width (cm)',\n",
       " 'petal length (cm)',\n",
       " 'petal width (cm)']"
      ]
     },
     "execution_count": 5,
     "metadata": {},
     "output_type": "execute_result"
    }
   ],
   "source": [
    "# Features of the dataset\n",
    "iris.feature_names"
   ]
  },
  {
   "cell_type": "code",
   "execution_count": 6,
   "id": "cb360410",
   "metadata": {},
   "outputs": [
    {
     "name": "stdout",
     "output_type": "stream",
     "text": [
      "[0 0 0 0 0 0 0 0 0 0 0 0 0 0 0 0 0 0 0 0 0 0 0 0 0 0 0 0 0 0 0 0 0 0 0 0 0\n",
      " 0 0 0 0 0 0 0 0 0 0 0 0 0 1 1 1 1 1 1 1 1 1 1 1 1 1 1 1 1 1 1 1 1 1 1 1 1\n",
      " 1 1 1 1 1 1 1 1 1 1 1 1 1 1 1 1 1 1 1 1 1 1 1 1 1 1 2 2 2 2 2 2 2 2 2 2 2\n",
      " 2 2 2 2 2 2 2 2 2 2 2 2 2 2 2 2 2 2 2 2 2 2 2 2 2 2 2 2 2 2 2 2 2 2 2 2 2\n",
      " 2 2]\n"
     ]
    }
   ],
   "source": [
    "from sklearn.preprocessing import LabelEncoder\n",
    "\n",
    "# Create a LabelEncoder\n",
    "label_encoder = LabelEncoder()\n",
    "\n",
    "# Fit the LabelEncoder on the target variable (y) to learn the mapping\n",
    "label_encoder.fit(y)\n",
    "\n",
    "# Transform numerical labels to species names\n",
    "species_names = label_encoder.inverse_transform(y)\n",
    "\n",
    "# Print the result\n",
    "print(species_names)"
   ]
  },
  {
   "cell_type": "code",
   "execution_count": 7,
   "id": "e56fb6be",
   "metadata": {},
   "outputs": [
    {
     "name": "stdout",
     "output_type": "stream",
     "text": [
      "['setosa', 'setosa', 'setosa', 'setosa', 'setosa', 'setosa', 'setosa', 'setosa', 'setosa', 'setosa', 'setosa', 'setosa', 'setosa', 'setosa', 'setosa', 'setosa', 'setosa', 'setosa', 'setosa', 'setosa', 'setosa', 'setosa', 'setosa', 'setosa', 'setosa', 'setosa', 'setosa', 'setosa', 'setosa', 'setosa', 'setosa', 'setosa', 'setosa', 'setosa', 'setosa', 'setosa', 'setosa', 'setosa', 'setosa', 'setosa', 'setosa', 'setosa', 'setosa', 'setosa', 'setosa', 'setosa', 'setosa', 'setosa', 'setosa', 'setosa', 'versicolor', 'versicolor', 'versicolor', 'versicolor', 'versicolor', 'versicolor', 'versicolor', 'versicolor', 'versicolor', 'versicolor', 'versicolor', 'versicolor', 'versicolor', 'versicolor', 'versicolor', 'versicolor', 'versicolor', 'versicolor', 'versicolor', 'versicolor', 'versicolor', 'versicolor', 'versicolor', 'versicolor', 'versicolor', 'versicolor', 'versicolor', 'versicolor', 'versicolor', 'versicolor', 'versicolor', 'versicolor', 'versicolor', 'versicolor', 'versicolor', 'versicolor', 'versicolor', 'versicolor', 'versicolor', 'versicolor', 'versicolor', 'versicolor', 'versicolor', 'versicolor', 'versicolor', 'versicolor', 'versicolor', 'versicolor', 'versicolor', 'versicolor', 'virginica', 'virginica', 'virginica', 'virginica', 'virginica', 'virginica', 'virginica', 'virginica', 'virginica', 'virginica', 'virginica', 'virginica', 'virginica', 'virginica', 'virginica', 'virginica', 'virginica', 'virginica', 'virginica', 'virginica', 'virginica', 'virginica', 'virginica', 'virginica', 'virginica', 'virginica', 'virginica', 'virginica', 'virginica', 'virginica', 'virginica', 'virginica', 'virginica', 'virginica', 'virginica', 'virginica', 'virginica', 'virginica', 'virginica', 'virginica', 'virginica', 'virginica', 'virginica', 'virginica', 'virginica', 'virginica', 'virginica', 'virginica', 'virginica', 'virginica']\n"
     ]
    }
   ],
   "source": [
    "# Mapping each target value in y to its corresponding species name in target_names \n",
    "# 0 to setosa, 1 to versicolor and 2 to virginica\n",
    "\n",
    "species_names = [target_names[i] for i in y]\n",
    "print(species_names)"
   ]
  },
  {
   "cell_type": "code",
   "execution_count": 8,
   "id": "d8964045",
   "metadata": {},
   "outputs": [
    {
     "name": "stdout",
     "output_type": "stream",
     "text": [
      ".. _iris_dataset:\n",
      "\n",
      "Iris plants dataset\n",
      "--------------------\n",
      "\n",
      "**Data Set Characteristics:**\n",
      "\n",
      "    :Number of Instances: 150 (50 in each of three classes)\n",
      "    :Number of Attributes: 4 numeric, predictive attributes and the class\n",
      "    :Attribute Information:\n",
      "        - sepal length in cm\n",
      "        - sepal width in cm\n",
      "        - petal length in cm\n",
      "        - petal width in cm\n",
      "        - class:\n",
      "                - Iris-Setosa\n",
      "                - Iris-Versicolour\n",
      "                - Iris-Virginica\n",
      "                \n",
      "    :Summary Statistics:\n",
      "\n",
      "    ============== ==== ==== ======= ===== ====================\n",
      "                    Min  Max   Mean    SD   Class Correlation\n",
      "    ============== ==== ==== ======= ===== ====================\n",
      "    sepal length:   4.3  7.9   5.84   0.83    0.7826\n",
      "    sepal width:    2.0  4.4   3.05   0.43   -0.4194\n",
      "    petal length:   1.0  6.9   3.76   1.76    0.9490  (high!)\n",
      "    petal width:    0.1  2.5   1.20   0.76    0.9565  (high!)\n",
      "    ============== ==== ==== ======= ===== ====================\n",
      "\n",
      "    :Missing Attribute Values: None\n",
      "    :Class Distribution: 33.3% for each of 3 classes.\n",
      "    :Creator: R.A. Fisher\n",
      "    :Donor: Michael Marshall (MARSHALL%PLU@io.arc.nasa.gov)\n",
      "    :Date: July, 1988\n",
      "\n",
      "The famous Iris database, first used by Sir R.A. Fisher. The dataset is taken\n",
      "from Fisher's paper. Note that it's the same as in R, but not as in the UCI\n",
      "Machine Learning Repository, which has two wrong data points.\n",
      "\n",
      "This is perhaps the best known database to be found in the\n",
      "pattern recognition literature.  Fisher's paper is a classic in the field and\n",
      "is referenced frequently to this day.  (See Duda & Hart, for example.)  The\n",
      "data set contains 3 classes of 50 instances each, where each class refers to a\n",
      "type of iris plant.  One class is linearly separable from the other 2; the\n",
      "latter are NOT linearly separable from each other.\n",
      "\n",
      ".. topic:: References\n",
      "\n",
      "   - Fisher, R.A. \"The use of multiple measurements in taxonomic problems\"\n",
      "     Annual Eugenics, 7, Part II, 179-188 (1936); also in \"Contributions to\n",
      "     Mathematical Statistics\" (John Wiley, NY, 1950).\n",
      "   - Duda, R.O., & Hart, P.E. (1973) Pattern Classification and Scene Analysis.\n",
      "     (Q327.D83) John Wiley & Sons.  ISBN 0-471-22361-1.  See page 218.\n",
      "   - Dasarathy, B.V. (1980) \"Nosing Around the Neighborhood: A New System\n",
      "     Structure and Classification Rule for Recognition in Partially Exposed\n",
      "     Environments\".  IEEE Transactions on Pattern Analysis and Machine\n",
      "     Intelligence, Vol. PAMI-2, No. 1, 67-71.\n",
      "   - Gates, G.W. (1972) \"The Reduced Nearest Neighbor Rule\".  IEEE Transactions\n",
      "     on Information Theory, May 1972, 431-433.\n",
      "   - See also: 1988 MLC Proceedings, 54-64.  Cheeseman et al\"s AUTOCLASS II\n",
      "     conceptual clustering system finds 3 classes in the data.\n",
      "   - Many, many more ...\n"
     ]
    }
   ],
   "source": [
    "print(iris.DESCR)"
   ]
  },
  {
   "cell_type": "code",
   "execution_count": 9,
   "id": "92bf64e1",
   "metadata": {},
   "outputs": [
    {
     "name": "stdout",
     "output_type": "stream",
     "text": [
      "<class 'pandas.core.frame.DataFrame'>\n",
      "RangeIndex: 150 entries, 0 to 149\n",
      "Data columns (total 4 columns):\n",
      " #   Column  Non-Null Count  Dtype  \n",
      "---  ------  --------------  -----  \n",
      " 0   0       150 non-null    float64\n",
      " 1   1       150 non-null    float64\n",
      " 2   2       150 non-null    float64\n",
      " 3   3       150 non-null    float64\n",
      "dtypes: float64(4)\n",
      "memory usage: 4.8 KB\n"
     ]
    }
   ],
   "source": [
    "(pd.DataFrame(X)).info()"
   ]
  },
  {
   "cell_type": "code",
   "execution_count": 10,
   "id": "313a5e7b",
   "metadata": {},
   "outputs": [
    {
     "data": {
      "text/html": [
       "<div>\n",
       "<style scoped>\n",
       "    .dataframe tbody tr th:only-of-type {\n",
       "        vertical-align: middle;\n",
       "    }\n",
       "\n",
       "    .dataframe tbody tr th {\n",
       "        vertical-align: top;\n",
       "    }\n",
       "\n",
       "    .dataframe thead th {\n",
       "        text-align: right;\n",
       "    }\n",
       "</style>\n",
       "<table border=\"1\" class=\"dataframe\">\n",
       "  <thead>\n",
       "    <tr style=\"text-align: right;\">\n",
       "      <th></th>\n",
       "      <th>0</th>\n",
       "      <th>1</th>\n",
       "      <th>2</th>\n",
       "      <th>3</th>\n",
       "    </tr>\n",
       "  </thead>\n",
       "  <tbody>\n",
       "    <tr>\n",
       "      <th>count</th>\n",
       "      <td>150.000000</td>\n",
       "      <td>150.000000</td>\n",
       "      <td>150.000000</td>\n",
       "      <td>150.000000</td>\n",
       "    </tr>\n",
       "    <tr>\n",
       "      <th>mean</th>\n",
       "      <td>5.843333</td>\n",
       "      <td>3.057333</td>\n",
       "      <td>3.758000</td>\n",
       "      <td>1.199333</td>\n",
       "    </tr>\n",
       "    <tr>\n",
       "      <th>std</th>\n",
       "      <td>0.828066</td>\n",
       "      <td>0.435866</td>\n",
       "      <td>1.765298</td>\n",
       "      <td>0.762238</td>\n",
       "    </tr>\n",
       "    <tr>\n",
       "      <th>min</th>\n",
       "      <td>4.300000</td>\n",
       "      <td>2.000000</td>\n",
       "      <td>1.000000</td>\n",
       "      <td>0.100000</td>\n",
       "    </tr>\n",
       "    <tr>\n",
       "      <th>25%</th>\n",
       "      <td>5.100000</td>\n",
       "      <td>2.800000</td>\n",
       "      <td>1.600000</td>\n",
       "      <td>0.300000</td>\n",
       "    </tr>\n",
       "    <tr>\n",
       "      <th>50%</th>\n",
       "      <td>5.800000</td>\n",
       "      <td>3.000000</td>\n",
       "      <td>4.350000</td>\n",
       "      <td>1.300000</td>\n",
       "    </tr>\n",
       "    <tr>\n",
       "      <th>75%</th>\n",
       "      <td>6.400000</td>\n",
       "      <td>3.300000</td>\n",
       "      <td>5.100000</td>\n",
       "      <td>1.800000</td>\n",
       "    </tr>\n",
       "    <tr>\n",
       "      <th>max</th>\n",
       "      <td>7.900000</td>\n",
       "      <td>4.400000</td>\n",
       "      <td>6.900000</td>\n",
       "      <td>2.500000</td>\n",
       "    </tr>\n",
       "  </tbody>\n",
       "</table>\n",
       "</div>"
      ],
      "text/plain": [
       "                0           1           2           3\n",
       "count  150.000000  150.000000  150.000000  150.000000\n",
       "mean     5.843333    3.057333    3.758000    1.199333\n",
       "std      0.828066    0.435866    1.765298    0.762238\n",
       "min      4.300000    2.000000    1.000000    0.100000\n",
       "25%      5.100000    2.800000    1.600000    0.300000\n",
       "50%      5.800000    3.000000    4.350000    1.300000\n",
       "75%      6.400000    3.300000    5.100000    1.800000\n",
       "max      7.900000    4.400000    6.900000    2.500000"
      ]
     },
     "execution_count": 10,
     "metadata": {},
     "output_type": "execute_result"
    }
   ],
   "source": [
    "pd.DataFrame(X).describe()"
   ]
  },
  {
   "cell_type": "code",
   "execution_count": 11,
   "id": "a9fc172b",
   "metadata": {},
   "outputs": [],
   "source": [
    "# Renaming the columns\n",
    "\n",
    "df = pd.DataFrame(X)\n",
    "df.columns = ['SL', 'SW', \"PL\",\"PW\"]"
   ]
  },
  {
   "cell_type": "code",
   "execution_count": 12,
   "id": "0977168d",
   "metadata": {},
   "outputs": [
    {
     "data": {
      "text/html": [
       "<div>\n",
       "<style scoped>\n",
       "    .dataframe tbody tr th:only-of-type {\n",
       "        vertical-align: middle;\n",
       "    }\n",
       "\n",
       "    .dataframe tbody tr th {\n",
       "        vertical-align: top;\n",
       "    }\n",
       "\n",
       "    .dataframe thead th {\n",
       "        text-align: right;\n",
       "    }\n",
       "</style>\n",
       "<table border=\"1\" class=\"dataframe\">\n",
       "  <thead>\n",
       "    <tr style=\"text-align: right;\">\n",
       "      <th></th>\n",
       "      <th>SL</th>\n",
       "      <th>SW</th>\n",
       "      <th>PL</th>\n",
       "      <th>PW</th>\n",
       "    </tr>\n",
       "  </thead>\n",
       "  <tbody>\n",
       "    <tr>\n",
       "      <th>count</th>\n",
       "      <td>150.000000</td>\n",
       "      <td>150.000000</td>\n",
       "      <td>150.000000</td>\n",
       "      <td>150.000000</td>\n",
       "    </tr>\n",
       "    <tr>\n",
       "      <th>mean</th>\n",
       "      <td>5.843333</td>\n",
       "      <td>3.057333</td>\n",
       "      <td>3.758000</td>\n",
       "      <td>1.199333</td>\n",
       "    </tr>\n",
       "    <tr>\n",
       "      <th>std</th>\n",
       "      <td>0.828066</td>\n",
       "      <td>0.435866</td>\n",
       "      <td>1.765298</td>\n",
       "      <td>0.762238</td>\n",
       "    </tr>\n",
       "    <tr>\n",
       "      <th>min</th>\n",
       "      <td>4.300000</td>\n",
       "      <td>2.000000</td>\n",
       "      <td>1.000000</td>\n",
       "      <td>0.100000</td>\n",
       "    </tr>\n",
       "    <tr>\n",
       "      <th>25%</th>\n",
       "      <td>5.100000</td>\n",
       "      <td>2.800000</td>\n",
       "      <td>1.600000</td>\n",
       "      <td>0.300000</td>\n",
       "    </tr>\n",
       "    <tr>\n",
       "      <th>50%</th>\n",
       "      <td>5.800000</td>\n",
       "      <td>3.000000</td>\n",
       "      <td>4.350000</td>\n",
       "      <td>1.300000</td>\n",
       "    </tr>\n",
       "    <tr>\n",
       "      <th>75%</th>\n",
       "      <td>6.400000</td>\n",
       "      <td>3.300000</td>\n",
       "      <td>5.100000</td>\n",
       "      <td>1.800000</td>\n",
       "    </tr>\n",
       "    <tr>\n",
       "      <th>max</th>\n",
       "      <td>7.900000</td>\n",
       "      <td>4.400000</td>\n",
       "      <td>6.900000</td>\n",
       "      <td>2.500000</td>\n",
       "    </tr>\n",
       "  </tbody>\n",
       "</table>\n",
       "</div>"
      ],
      "text/plain": [
       "               SL          SW          PL          PW\n",
       "count  150.000000  150.000000  150.000000  150.000000\n",
       "mean     5.843333    3.057333    3.758000    1.199333\n",
       "std      0.828066    0.435866    1.765298    0.762238\n",
       "min      4.300000    2.000000    1.000000    0.100000\n",
       "25%      5.100000    2.800000    1.600000    0.300000\n",
       "50%      5.800000    3.000000    4.350000    1.300000\n",
       "75%      6.400000    3.300000    5.100000    1.800000\n",
       "max      7.900000    4.400000    6.900000    2.500000"
      ]
     },
     "execution_count": 12,
     "metadata": {},
     "output_type": "execute_result"
    }
   ],
   "source": [
    "df.describe()"
   ]
  },
  {
   "cell_type": "code",
   "execution_count": 13,
   "id": "11491eee",
   "metadata": {},
   "outputs": [
    {
     "data": {
      "text/plain": [
       "SL    0\n",
       "SW    0\n",
       "PL    0\n",
       "PW    0\n",
       "dtype: int64"
      ]
     },
     "execution_count": 13,
     "metadata": {},
     "output_type": "execute_result"
    }
   ],
   "source": [
    "df.isnull().sum()"
   ]
  },
  {
   "cell_type": "code",
   "execution_count": 14,
   "id": "e44529a6",
   "metadata": {},
   "outputs": [
    {
     "name": "stdout",
     "output_type": "stream",
     "text": [
      "(150, 4)\n",
      "    SL   SW   PL   PW\n",
      "0  5.1  3.5  1.4  0.2\n",
      "1  4.9  3.0  1.4  0.2\n",
      "2  4.7  3.2  1.3  0.2\n",
      "3  4.6  3.1  1.5  0.2\n",
      "4  5.0  3.6  1.4  0.2\n"
     ]
    }
   ],
   "source": [
    "X_train=df\n",
    "print(X_train.shape)\n",
    "print(X_train.head())"
   ]
  },
  {
   "cell_type": "code",
   "execution_count": 15,
   "id": "5e95a718",
   "metadata": {},
   "outputs": [
    {
     "name": "stdout",
     "output_type": "stream",
     "text": [
      "[0 0 0 0 0 0 0 0 0 0 0 0 0 0 0 0 0 0 0 0 0 0 0 0 0 0 0 0 0 0 0 0 0 0 0 0 0\n",
      " 0 0 0 0 0 0 0 0 0 0 0 0 0 1 1 1 1 1 1 1 1 1 1 1 1 1 1 1 1 1 1 1 1 1 1 1 1\n",
      " 1 1 1 1 1 1 1 1 1 1 1 1 1 1 1 1 1 1 1 1 1 1 1 1 1 1 2 2 2 2 2 2 2 2 2 2 2\n",
      " 2 2 2 2 2 2 2 2 2 2 2 2 2 2 2 2 2 2 2 2 2 2 2 2 2 2 2 2 2 2 2 2 2 2 2 2 2\n",
      " 2 2]\n"
     ]
    }
   ],
   "source": [
    "y_train=y\n",
    "print(y_train)"
   ]
  },
  {
   "cell_type": "markdown",
   "id": "cb2ca18f",
   "metadata": {},
   "source": [
    "Calculate conditional probabilty"
   ]
  },
  {
   "cell_type": "code",
   "execution_count": 16,
   "id": "a08829e7",
   "metadata": {},
   "outputs": [],
   "source": [
    "# Define function to calculate conditional probability\n",
    "\n",
    "def calculate_conditional_probability(obs, data_mean, data_std, target_name):\n",
    "    \"\"\"\n",
    "    Define function to calculate conditional probability\n",
    "    obs: List[float]\n",
    "    data_mean: List[float]\n",
    "    data_std: List[float]\n",
    "    target_name: String\n",
    "    \"\"\"\n",
    "    probabilities = []\n",
    "    for i in range(4):\n",
    "        probability = np.prod((1 / (np.sqrt(2 * np.pi * data_std[i]))) * np.exp(-(obs[i] - data_mean[i]) ** 2 / (2 * data_std[i])))\n",
    "        probabilities.append(probability)\n",
    "        print(f\"Probability of {iris.feature_names[i]} given the class {target_name}: {probability}\")\n",
    "    return np.prod(probabilities)\n",
    "\n",
    "\n",
    "def print_class_info(class_name, data_mean, data_std):\n",
    "    print(f\"For class {class_name} the mean values for features are:\\n{data_mean}\")\n",
    "    print(\"\\n\")\n",
    "    print(f\"For class {class_name} the standard deviation values for features are:\\n{data_std}\")\n",
    "    print(\"\\n\")"
   ]
  },
  {
   "cell_type": "code",
   "execution_count": 17,
   "id": "1009fac7",
   "metadata": {},
   "outputs": [
    {
     "name": "stdout",
     "output_type": "stream",
     "text": [
      "Prior probability of Setosa: 0.3333333333333333\n",
      "Prior probability of Versicolor: 0.3333333333333333\n",
      "Prior probability of Virginica: 0.3333333333333333\n"
     ]
    }
   ],
   "source": [
    "# Calculate prior probabilities of each class\n",
    "\n",
    "count = pd.DataFrame(y_train).value_counts()\n",
    "_sum = pd.DataFrame(y_train).value_counts().sum()\n",
    "setosa_priori_probability = count[0] / _sum\n",
    "versicolor_priori_probability = count[1] / _sum\n",
    "virginica_priori_probability = count[2] / _sum\n",
    "\n",
    "print(f\"Prior probability of Setosa: {setosa_priori_probability}\")\n",
    "print(f\"Prior probability of Versicolor: {versicolor_priori_probability}\")\n",
    "print(f\"Prior probability of Virginica: {virginica_priori_probability}\")"
   ]
  },
  {
   "cell_type": "code",
   "execution_count": 18,
   "id": "84209ff2",
   "metadata": {},
   "outputs": [
    {
     "name": "stdout",
     "output_type": "stream",
     "text": [
      "For class Setosa the mean values for features are:\n",
      "SL    5.006\n",
      "SW    3.428\n",
      "PL    1.462\n",
      "PW    0.246\n",
      "dtype: float64\n",
      "\n",
      "\n",
      "For class Setosa the standard deviation values for features are:\n",
      "SL    0.352490\n",
      "SW    0.379064\n",
      "PL    0.173664\n",
      "PW    0.105386\n",
      "dtype: float64\n",
      "\n",
      "\n",
      "For class Versicolor the mean values for features are:\n",
      "SL    5.936\n",
      "SW    2.770\n",
      "PL    4.260\n",
      "PW    1.326\n",
      "dtype: float64\n",
      "\n",
      "\n",
      "For class Versicolor the standard deviation values for features are:\n",
      "SL    0.516171\n",
      "SW    0.313798\n",
      "PL    0.469911\n",
      "PW    0.197753\n",
      "dtype: float64\n",
      "\n",
      "\n",
      "For class Virginica the mean values for features are:\n",
      "SL    6.588\n",
      "SW    2.974\n",
      "PL    5.552\n",
      "PW    2.026\n",
      "dtype: float64\n",
      "\n",
      "\n",
      "For class Virginica the standard deviation values for features are:\n",
      "SL    0.635880\n",
      "SW    0.322497\n",
      "PL    0.551895\n",
      "PW    0.274650\n",
      "dtype: float64\n",
      "\n",
      "\n"
     ]
    }
   ],
   "source": [
    "# Calculate mean and standard deviation for each class\n",
    "\n",
    "setosa_data = X_train[y_train == 0]\n",
    "setosa_data_mean = setosa_data.mean()\n",
    "setosa_data_std = setosa_data.std()\n",
    "\n",
    "versicolor_data = X_train[y_train == 1]\n",
    "versicolor_data_mean = versicolor_data.mean()\n",
    "versicolor_data_std = versicolor_data.std()\n",
    "\n",
    "virginica_data = X_train[y_train == 2]\n",
    "virginica_data_mean = virginica_data.mean()\n",
    "virginica_data_std = virginica_data.std()\n",
    "\n",
    "\n",
    "# Print class information\n",
    "\n",
    "print_class_info(\"Setosa\", setosa_data_mean, setosa_data_std)\n",
    "print_class_info(\"Versicolor\", versicolor_data_mean, versicolor_data_std)\n",
    "print_class_info(\"Virginica\", virginica_data_mean, virginica_data_std)"
   ]
  },
  {
   "cell_type": "code",
   "execution_count": 19,
   "id": "8d97c454",
   "metadata": {},
   "outputs": [
    {
     "name": "stdout",
     "output_type": "stream",
     "text": [
      "\n",
      "\n",
      "For observation [4.5 3.  5.6 2.1] \n",
      "\n",
      "Probability of sepal length (cm) given the class setosa: 0.4673140174355561\n",
      "Probability of sepal width (cm) given the class setosa: 0.508881338060571\n",
      "Probability of petal length (cm) given the class setosa: 3.720658979326054e-22\n",
      "Probability of petal width (cm) given the class setosa: 1.0160666574351192e-07\n",
      "\n",
      "\n",
      "Probability of sepal length (cm) given the class versicolor: 0.0753378511718843\n",
      "Probability of sepal width (cm) given the class versicolor: 0.6546032519987927\n",
      "Probability of petal length (cm) given the class versicolor: 0.08612916635209425\n",
      "Probability of petal width (cm) given the class versicolor: 0.19725072065531182\n",
      "\n",
      "\n",
      "Probability of sepal length (cm) given the class virginica: 0.016233371073797832\n",
      "Probability of sepal width (cm) given the class virginica: 0.7017659587696752\n",
      "Probability of petal length (cm) given the class virginica: 0.5358897238768604\n",
      "Probability of petal width (cm) given the class virginica: 0.7536864664865808\n",
      "\n",
      "The conditional probability for class Setosa = 8.990159542786643e-30\n",
      "The conditional probability for class Versicolor = 0.0008378383391462314\n",
      "The conditional probability for class Virginica = 0.004601158139087283\n",
      "\n",
      "The probability for class Setosa = 2.9967198475955476e-30\n",
      "The probability for class Versicolor = 0.00027927944638207714\n",
      "The probability for class Virginica = 0.0015337193796957607\n",
      "\n",
      "\n",
      "\n",
      "For observation [5.4 2.6 4.5 0. ] \n",
      "\n",
      "Probability of sepal length (cm) given the class setosa: 0.5391448927164205\n",
      "Probability of sepal width (cm) given the class setosa: 0.26231093577239567\n",
      "Probability of petal length (cm) given the class setosa: 2.7585215978476627e-12\n",
      "Probability of petal width (cm) given the class setosa: 0.9222020835116032\n",
      "\n",
      "\n",
      "Probability of sepal length (cm) given the class versicolor: 0.42038875824484184\n",
      "Probability of sepal width (cm) given the class versicolor: 0.6801208153867351\n",
      "Probability of petal length (cm) given the class versicolor: 0.5473752312537677\n",
      "Probability of petal width (cm) given the class versicolor: 0.010522774237669404\n",
      "\n",
      "\n",
      "Probability of sepal length (cm) given the class virginica: 0.1649153817151944\n",
      "Probability of sepal width (cm) given the class virginica: 0.5655415417992513\n",
      "Probability of petal length (cm) given the class virginica: 0.19703378426601328\n",
      "Probability of petal width (cm) given the class virginica: 0.0004327432067066401\n",
      "\n",
      "The conditional probability for class Setosa = 3.597695309540827e-13\n",
      "The conditional probability for class Versicolor = 0.0016468443541782377\n",
      "The conditional probability for class Virginica = 7.952371008119276e-06\n",
      "\n",
      "The probability for class Setosa = 1.1992317698469424e-13\n",
      "The probability for class Versicolor = 0.0005489481180594126\n",
      "The probability for class Virginica = 2.6507903360397587e-06\n",
      "\n"
     ]
    }
   ],
   "source": [
    "# Observations:\n",
    "observations = np.array([[4.5, 3.0, 5.6, 2.1], [5.4, 2.6, 4.5, 0.0]])\n",
    "\n",
    "\n",
    "# Calculate conditional Probability\n",
    "for obs in observations:\n",
    "    print(\"\\n\\nFor observation\", obs, \"\\n\")\n",
    "\n",
    "    # Calculate conditional probabilities\n",
    "    probability_setosa = calculate_conditional_probability(obs, setosa_data_mean, setosa_data_std, target_names[0])\n",
    "    print(\"\\n\")\n",
    "    probability_versicolor = calculate_conditional_probability(obs, versicolor_data_mean, versicolor_data_std, target_names[1])\n",
    "    print(\"\\n\")\n",
    "    probability_virginica = calculate_conditional_probability(obs, virginica_data_mean, virginica_data_std, target_names[2])\n",
    "\n",
    "    # Print results\n",
    "    print(f\"\\nThe conditional probability for class Setosa = {probability_setosa}\")\n",
    "    print(f\"The conditional probability for class Versicolor = {probability_versicolor}\")\n",
    "    print(f\"The conditional probability for class Virginica = {probability_virginica}\\n\")\n",
    "\n",
    "    # Now multiply prior probability and conditional probability of each class to obtain final probabilities\n",
    "    print(f\"The probability for class Setosa = {setosa_priori_probability * probability_setosa}\")\n",
    "    print(f\"The probability for class Versicolor = {versicolor_priori_probability * probability_versicolor}\")\n",
    "    print(f\"The probability for class Virginica = {virginica_priori_probability * probability_virginica}\\n\")\n"
   ]
  },
  {
   "cell_type": "markdown",
   "id": "98d23114",
   "metadata": {},
   "source": [
    "We observe that:\n",
    "- for the first observation [4.5, 3.0, 5.6, 2.1], the highest probability is for class Virginica\n",
    "- for the second observation [5.4, 2.6, 4.5, 0.0], the highest probability is for class Versicolor"
   ]
  },
  {
   "cell_type": "markdown",
   "id": "a844adb8",
   "metadata": {},
   "source": [
    "### Verify your answer with sklearn\n",
    "iris Data:"
   ]
  },
  {
   "cell_type": "code",
   "execution_count": 20,
   "id": "d424de10",
   "metadata": {},
   "outputs": [],
   "source": [
    "# Split the data into training and testing sets\n",
    "X_train, X_test, y_train, y_test = train_test_split(X, y, test_size=0.2, random_state=42)"
   ]
  },
  {
   "cell_type": "code",
   "execution_count": 21,
   "id": "4d0e90dd",
   "metadata": {},
   "outputs": [
    {
     "data": {
      "text/html": [
       "<style>#sk-container-id-1 {color: black;}#sk-container-id-1 pre{padding: 0;}#sk-container-id-1 div.sk-toggleable {background-color: white;}#sk-container-id-1 label.sk-toggleable__label {cursor: pointer;display: block;width: 100%;margin-bottom: 0;padding: 0.3em;box-sizing: border-box;text-align: center;}#sk-container-id-1 label.sk-toggleable__label-arrow:before {content: \"▸\";float: left;margin-right: 0.25em;color: #696969;}#sk-container-id-1 label.sk-toggleable__label-arrow:hover:before {color: black;}#sk-container-id-1 div.sk-estimator:hover label.sk-toggleable__label-arrow:before {color: black;}#sk-container-id-1 div.sk-toggleable__content {max-height: 0;max-width: 0;overflow: hidden;text-align: left;background-color: #f0f8ff;}#sk-container-id-1 div.sk-toggleable__content pre {margin: 0.2em;color: black;border-radius: 0.25em;background-color: #f0f8ff;}#sk-container-id-1 input.sk-toggleable__control:checked~div.sk-toggleable__content {max-height: 200px;max-width: 100%;overflow: auto;}#sk-container-id-1 input.sk-toggleable__control:checked~label.sk-toggleable__label-arrow:before {content: \"▾\";}#sk-container-id-1 div.sk-estimator input.sk-toggleable__control:checked~label.sk-toggleable__label {background-color: #d4ebff;}#sk-container-id-1 div.sk-label input.sk-toggleable__control:checked~label.sk-toggleable__label {background-color: #d4ebff;}#sk-container-id-1 input.sk-hidden--visually {border: 0;clip: rect(1px 1px 1px 1px);clip: rect(1px, 1px, 1px, 1px);height: 1px;margin: -1px;overflow: hidden;padding: 0;position: absolute;width: 1px;}#sk-container-id-1 div.sk-estimator {font-family: monospace;background-color: #f0f8ff;border: 1px dotted black;border-radius: 0.25em;box-sizing: border-box;margin-bottom: 0.5em;}#sk-container-id-1 div.sk-estimator:hover {background-color: #d4ebff;}#sk-container-id-1 div.sk-parallel-item::after {content: \"\";width: 100%;border-bottom: 1px solid gray;flex-grow: 1;}#sk-container-id-1 div.sk-label:hover label.sk-toggleable__label {background-color: #d4ebff;}#sk-container-id-1 div.sk-serial::before {content: \"\";position: absolute;border-left: 1px solid gray;box-sizing: border-box;top: 0;bottom: 0;left: 50%;z-index: 0;}#sk-container-id-1 div.sk-serial {display: flex;flex-direction: column;align-items: center;background-color: white;padding-right: 0.2em;padding-left: 0.2em;position: relative;}#sk-container-id-1 div.sk-item {position: relative;z-index: 1;}#sk-container-id-1 div.sk-parallel {display: flex;align-items: stretch;justify-content: center;background-color: white;position: relative;}#sk-container-id-1 div.sk-item::before, #sk-container-id-1 div.sk-parallel-item::before {content: \"\";position: absolute;border-left: 1px solid gray;box-sizing: border-box;top: 0;bottom: 0;left: 50%;z-index: -1;}#sk-container-id-1 div.sk-parallel-item {display: flex;flex-direction: column;z-index: 1;position: relative;background-color: white;}#sk-container-id-1 div.sk-parallel-item:first-child::after {align-self: flex-end;width: 50%;}#sk-container-id-1 div.sk-parallel-item:last-child::after {align-self: flex-start;width: 50%;}#sk-container-id-1 div.sk-parallel-item:only-child::after {width: 0;}#sk-container-id-1 div.sk-dashed-wrapped {border: 1px dashed gray;margin: 0 0.4em 0.5em 0.4em;box-sizing: border-box;padding-bottom: 0.4em;background-color: white;}#sk-container-id-1 div.sk-label label {font-family: monospace;font-weight: bold;display: inline-block;line-height: 1.2em;}#sk-container-id-1 div.sk-label-container {text-align: center;}#sk-container-id-1 div.sk-container {/* jupyter's `normalize.less` sets `[hidden] { display: none; }` but bootstrap.min.css set `[hidden] { display: none !important; }` so we also need the `!important` here to be able to override the default hidden behavior on the sphinx rendered scikit-learn.org. See: https://github.com/scikit-learn/scikit-learn/issues/21755 */display: inline-block !important;position: relative;}#sk-container-id-1 div.sk-text-repr-fallback {display: none;}</style><div id=\"sk-container-id-1\" class=\"sk-top-container\"><div class=\"sk-text-repr-fallback\"><pre>GaussianNB()</pre><b>In a Jupyter environment, please rerun this cell to show the HTML representation or trust the notebook. <br />On GitHub, the HTML representation is unable to render, please try loading this page with nbviewer.org.</b></div><div class=\"sk-container\" hidden><div class=\"sk-item\"><div class=\"sk-estimator sk-toggleable\"><input class=\"sk-toggleable__control sk-hidden--visually\" id=\"sk-estimator-id-1\" type=\"checkbox\" checked><label for=\"sk-estimator-id-1\" class=\"sk-toggleable__label sk-toggleable__label-arrow\">GaussianNB</label><div class=\"sk-toggleable__content\"><pre>GaussianNB()</pre></div></div></div></div></div>"
      ],
      "text/plain": [
       "GaussianNB()"
      ]
     },
     "execution_count": 21,
     "metadata": {},
     "output_type": "execute_result"
    }
   ],
   "source": [
    "# Train the Naïve Bayes model\n",
    "naive_bayes_model = GaussianNB()\n",
    "naive_bayes_model.fit(X_train, y_train)"
   ]
  },
  {
   "cell_type": "code",
   "execution_count": 22,
   "id": "7b2ef8c9",
   "metadata": {},
   "outputs": [],
   "source": [
    "# Observations\n",
    "observations = [\n",
    "    [4.5, 3.0, 5.6, 2.1],\n",
    "    [5.4, 2.6, 4.5, 0.0]\n",
    "]"
   ]
  },
  {
   "cell_type": "code",
   "execution_count": 23,
   "id": "87dbb192",
   "metadata": {},
   "outputs": [
    {
     "name": "stdout",
     "output_type": "stream",
     "text": [
      "For observation [4.5, 3.0, 5.6, 2.1]:\n",
      "The probability for class setosa = 1.419620587145963e-179\n",
      "The probability for class versicolor = 7.722702329486218e-05\n",
      "The probability for class virginica = 0.9999227729767053\n",
      "\n",
      "For observation [5.4, 2.6, 4.5, 0.0]:\n",
      "The probability for class setosa = 3.9083106837588104e-54\n",
      "The probability for class versicolor = 0.9992168624477715\n",
      "The probability for class virginica = 0.0007831375522288574\n",
      "\n"
     ]
    }
   ],
   "source": [
    "# Predict probabilities for each observation\n",
    "predicted_probabilities = naive_bayes_model.predict_proba(observations)\n",
    "\n",
    "# Print the predicted probabilities for each species for each observation\n",
    "for i, probs in enumerate(predicted_probabilities):\n",
    "    observation = observations[i]\n",
    "    print(f\"For observation {observation}:\")\n",
    "    \n",
    "    for j, prob in enumerate(probs):\n",
    "        species = iris.target_names[j]\n",
    "        print(f\"The probability for class {species} = {prob}\")\n",
    "\n",
    "    print()"
   ]
  },
  {
   "cell_type": "markdown",
   "id": "d9161367",
   "metadata": {},
   "source": [
    "We observe that:\n",
    "\n",
    "- for the first observation [4.5, 3.0, 5.6, 2.1], the highest probability is for class Virginica\n",
    "- for the second observation [5.4, 2.6, 4.5, 0.0], the highest probability is for class Versicolor"
   ]
  },
  {
   "cell_type": "markdown",
   "id": "a7db50bc",
   "metadata": {},
   "source": [
    "****************************************************************************************************"
   ]
  },
  {
   "cell_type": "markdown",
   "id": "0f5ccf29",
   "metadata": {},
   "source": [
    "3. Consider the data of play tennis or not. Predict the output for the following cases.\n",
    "\n",
    "case 1. Outlook: Sunny, Temp: Hot, Humidity: High, Wind= Strong\n",
    "\n",
    "case 2. Outlook = Overcast, Temp = Mild, humidity = High, Wind = Strong"
   ]
  },
  {
   "cell_type": "markdown",
   "id": "63115073",
   "metadata": {},
   "source": [
    "Find probability of Play = Yes, No\n",
    "\n",
    "P(Yes) = 9/14\n",
    "P(No) = 5/14"
   ]
  },
  {
   "cell_type": "markdown",
   "id": "7ad2292b",
   "metadata": {},
   "source": [
    "Calculate probability of Outlook = Sunny, Overcast, Rainy\n",
    "\n",
    "- when Play = Yes\n",
    "\n",
    "P(Outlook=Sunny|Play=Yes) = 2/9\n",
    "\n",
    "P(Outlook=Overcast|Play=Yes) = 4/9\n",
    "\n",
    "P(Outlook=Rainy|Play=Yes) = 3/9\n",
    "\n",
    "\n",
    "- when Play = No\n",
    "\n",
    "P(Outlook=Sunny|Play=No) = 3/5\n",
    "\n",
    "P(Outlook=Overcast|Play=No) = 0\n",
    "\n",
    "P(Outlook=Rainy|Play=No) = 2/5"
   ]
  },
  {
   "cell_type": "markdown",
   "id": "2333ff8b",
   "metadata": {},
   "source": [
    "Calculate probability of Temperature = Hot, Mild, Cold\n",
    "\n",
    "- when Play = Yes\n",
    "\n",
    "P(Temperature=Hot|Play=Yes) = 2/9\n",
    "\n",
    "P(Temperature=Mild|Play=Yes) = 4/9\n",
    "\n",
    "P(Temperature=Cold|Play=Yes) = 3/9\n",
    "\n",
    "\n",
    "- when Play = No\n",
    "\n",
    "P(Temperature=Hot|Play=No) = 2/5\n",
    "\n",
    "P(Temperature=Mild|Play=No) = 2/5\n",
    "\n",
    "P(Temperature=Cold|Play=No) = 1/5"
   ]
  },
  {
   "cell_type": "markdown",
   "id": "e1d5555f",
   "metadata": {},
   "source": [
    "Calculate probability of Temperature = High, Normal\n",
    "\n",
    "- when Play = Yes\n",
    "\n",
    "P(Humidity=High|Play=Yes) = 3/9\n",
    "\n",
    "P(Humidity=Normal|Play=Yes) = 6/9\n",
    "\n",
    "\n",
    "- when Play = No\n",
    "\n",
    "P(Humidity=High|Play=No) = 4/5\n",
    "\n",
    "P(Humidity=Normal|Play=No) = 4/5"
   ]
  },
  {
   "cell_type": "markdown",
   "id": "b53e4415",
   "metadata": {},
   "source": [
    "Calculate probability of Wind = Strong, Weak\n",
    "\n",
    "- when Play = Yes\n",
    "\n",
    "P(Wind=Strong|Play=Yes) = 3/9\n",
    "\n",
    "P(Wind=Weak|Play=Yes) = 6/9\n",
    "\n",
    "\n",
    "- when Play = No\n",
    "\n",
    "P(Wind=Strong|Play=No) = 3/4\n",
    "\n",
    "P(Wind=Weak|Play=No) = 2/5"
   ]
  },
  {
   "cell_type": "markdown",
   "id": "c4a68233",
   "metadata": {},
   "source": [
    "Case 1 Calculation:\n",
    "\n",
    "X = Outlook: Sunny, Temp: Hot, Humidity: High, Wind= Strong\n",
    "\n",
    "P(Yes|X) = [P(Sunny|Yes)P(Hot|Yes)P(High|Yes)P(Strong|Yes)]P(Play=Yes) \n",
    "         = (2/9)(2/9)(3/9)(3/9)(9/14)\n",
    "         = 0.00352\n",
    "\n",
    "P(No|X) = [P(Sunny|No)P(Hot|No)P(High|No)P(Strong|No)]P(Play=No) \n",
    "        = (3/5)(2/5)(4/5)(3/5)(5/14)\n",
    "        = 0.0411\n",
    "\n",
    "P(No|X) > P(Yes|X)\n",
    "\n",
    "Hence case 1 prediction is No"
   ]
  },
  {
   "cell_type": "markdown",
   "id": "0c0e6cb8",
   "metadata": {},
   "source": [
    "Case 2 Calculation:\n",
    "\n",
    "X = Outlook = Overcast, Temp = Mild, humidity = High, Wind = Strong\n",
    "\n",
    "P(Yes|X) = [P(Overcast|Yes)P(Mild|Yes)P(High|Yes)P(Strong|Yes)]P(Play=Yes) \n",
    "         = (4/9)(4/9)(3/9)(3/9)(9/14)\n",
    "         = 0.0141\n",
    "\n",
    "P(No|X) = [P(Overcast|Yes)P(Mild|Yes)P(High|Yes)P(Strong|Yes)]P(Play=No) \n",
    "        = 0(2/5)(4/5)(3/5)(5/14)\n",
    "        = 0\n",
    "\n",
    "P(Yes|X) > P(No|X)\n",
    "\n",
    "Hence case 2 prediction is yes"
   ]
  },
  {
   "cell_type": "markdown",
   "id": "8b04ed10",
   "metadata": {},
   "source": [
    "### Verify your answer with sklearn\n",
    "\n",
    "Tennis Data:"
   ]
  },
  {
   "cell_type": "code",
   "execution_count": 24,
   "id": "1d0ac53e",
   "metadata": {},
   "outputs": [],
   "source": [
    "import pandas as pd\n",
    "from sklearn.naive_bayes import CategoricalNB\n",
    "from sklearn.preprocessing import OrdinalEncoder"
   ]
  },
  {
   "cell_type": "code",
   "execution_count": 25,
   "id": "fa58b207",
   "metadata": {},
   "outputs": [],
   "source": [
    "# Create a DataFrame from the given data\n",
    "data = {\n",
    "    'Outlook': ['Sunny', 'Sunny', 'Overcast', 'Rainy', 'Rainy', 'Rainy', 'Overcast', 'Sunny', 'Sunny', 'Rainy', 'Sunny', 'Overcast', 'Overcast', 'Rainy'],\n",
    "    'Temperature': ['Hot', 'Hot', 'Hot', 'Mild', 'Cool', 'Cool', 'Cool', 'Mild', 'Cool', 'Mild', 'Mild', 'Mild', 'Hot', 'Mild'],\n",
    "    'Humidity': ['High', 'High', 'High', 'High', 'Normal', 'Normal', 'Normal', 'High', 'Normal', 'Normal', 'Normal', 'High', 'Normal', 'High'],\n",
    "    'Wind': ['Weak', 'Strong', 'Weak', 'Weak', 'Weak', 'Strong', 'Strong', 'Weak', 'Weak', 'Weak', 'Strong', 'Strong', 'Weak', 'Strong'],\n",
    "    'PlayTennis': ['No', 'No', 'Yes', 'Yes', 'Yes', 'No', 'Yes', 'No', 'Yes', 'Yes', 'Yes', 'Yes', 'Yes', 'No']\n",
    "}\n",
    "\n",
    "df = pd.DataFrame(data)"
   ]
  },
  {
   "cell_type": "code",
   "execution_count": 26,
   "id": "109d8c11",
   "metadata": {},
   "outputs": [
    {
     "data": {
      "text/html": [
       "<div>\n",
       "<style scoped>\n",
       "    .dataframe tbody tr th:only-of-type {\n",
       "        vertical-align: middle;\n",
       "    }\n",
       "\n",
       "    .dataframe tbody tr th {\n",
       "        vertical-align: top;\n",
       "    }\n",
       "\n",
       "    .dataframe thead th {\n",
       "        text-align: right;\n",
       "    }\n",
       "</style>\n",
       "<table border=\"1\" class=\"dataframe\">\n",
       "  <thead>\n",
       "    <tr style=\"text-align: right;\">\n",
       "      <th></th>\n",
       "      <th>Outlook</th>\n",
       "      <th>Temperature</th>\n",
       "      <th>Humidity</th>\n",
       "      <th>Wind</th>\n",
       "      <th>PlayTennis</th>\n",
       "    </tr>\n",
       "  </thead>\n",
       "  <tbody>\n",
       "    <tr>\n",
       "      <th>0</th>\n",
       "      <td>Sunny</td>\n",
       "      <td>Hot</td>\n",
       "      <td>High</td>\n",
       "      <td>Weak</td>\n",
       "      <td>No</td>\n",
       "    </tr>\n",
       "    <tr>\n",
       "      <th>1</th>\n",
       "      <td>Sunny</td>\n",
       "      <td>Hot</td>\n",
       "      <td>High</td>\n",
       "      <td>Strong</td>\n",
       "      <td>No</td>\n",
       "    </tr>\n",
       "    <tr>\n",
       "      <th>2</th>\n",
       "      <td>Overcast</td>\n",
       "      <td>Hot</td>\n",
       "      <td>High</td>\n",
       "      <td>Weak</td>\n",
       "      <td>Yes</td>\n",
       "    </tr>\n",
       "    <tr>\n",
       "      <th>3</th>\n",
       "      <td>Rainy</td>\n",
       "      <td>Mild</td>\n",
       "      <td>High</td>\n",
       "      <td>Weak</td>\n",
       "      <td>Yes</td>\n",
       "    </tr>\n",
       "    <tr>\n",
       "      <th>4</th>\n",
       "      <td>Rainy</td>\n",
       "      <td>Cool</td>\n",
       "      <td>Normal</td>\n",
       "      <td>Weak</td>\n",
       "      <td>Yes</td>\n",
       "    </tr>\n",
       "    <tr>\n",
       "      <th>5</th>\n",
       "      <td>Rainy</td>\n",
       "      <td>Cool</td>\n",
       "      <td>Normal</td>\n",
       "      <td>Strong</td>\n",
       "      <td>No</td>\n",
       "    </tr>\n",
       "    <tr>\n",
       "      <th>6</th>\n",
       "      <td>Overcast</td>\n",
       "      <td>Cool</td>\n",
       "      <td>Normal</td>\n",
       "      <td>Strong</td>\n",
       "      <td>Yes</td>\n",
       "    </tr>\n",
       "    <tr>\n",
       "      <th>7</th>\n",
       "      <td>Sunny</td>\n",
       "      <td>Mild</td>\n",
       "      <td>High</td>\n",
       "      <td>Weak</td>\n",
       "      <td>No</td>\n",
       "    </tr>\n",
       "    <tr>\n",
       "      <th>8</th>\n",
       "      <td>Sunny</td>\n",
       "      <td>Cool</td>\n",
       "      <td>Normal</td>\n",
       "      <td>Weak</td>\n",
       "      <td>Yes</td>\n",
       "    </tr>\n",
       "    <tr>\n",
       "      <th>9</th>\n",
       "      <td>Rainy</td>\n",
       "      <td>Mild</td>\n",
       "      <td>Normal</td>\n",
       "      <td>Weak</td>\n",
       "      <td>Yes</td>\n",
       "    </tr>\n",
       "    <tr>\n",
       "      <th>10</th>\n",
       "      <td>Sunny</td>\n",
       "      <td>Mild</td>\n",
       "      <td>Normal</td>\n",
       "      <td>Strong</td>\n",
       "      <td>Yes</td>\n",
       "    </tr>\n",
       "    <tr>\n",
       "      <th>11</th>\n",
       "      <td>Overcast</td>\n",
       "      <td>Mild</td>\n",
       "      <td>High</td>\n",
       "      <td>Strong</td>\n",
       "      <td>Yes</td>\n",
       "    </tr>\n",
       "    <tr>\n",
       "      <th>12</th>\n",
       "      <td>Overcast</td>\n",
       "      <td>Hot</td>\n",
       "      <td>Normal</td>\n",
       "      <td>Weak</td>\n",
       "      <td>Yes</td>\n",
       "    </tr>\n",
       "    <tr>\n",
       "      <th>13</th>\n",
       "      <td>Rainy</td>\n",
       "      <td>Mild</td>\n",
       "      <td>High</td>\n",
       "      <td>Strong</td>\n",
       "      <td>No</td>\n",
       "    </tr>\n",
       "  </tbody>\n",
       "</table>\n",
       "</div>"
      ],
      "text/plain": [
       "     Outlook Temperature Humidity    Wind PlayTennis\n",
       "0      Sunny         Hot     High    Weak         No\n",
       "1      Sunny         Hot     High  Strong         No\n",
       "2   Overcast         Hot     High    Weak        Yes\n",
       "3      Rainy        Mild     High    Weak        Yes\n",
       "4      Rainy        Cool   Normal    Weak        Yes\n",
       "5      Rainy        Cool   Normal  Strong         No\n",
       "6   Overcast        Cool   Normal  Strong        Yes\n",
       "7      Sunny        Mild     High    Weak         No\n",
       "8      Sunny        Cool   Normal    Weak        Yes\n",
       "9      Rainy        Mild   Normal    Weak        Yes\n",
       "10     Sunny        Mild   Normal  Strong        Yes\n",
       "11  Overcast        Mild     High  Strong        Yes\n",
       "12  Overcast         Hot   Normal    Weak        Yes\n",
       "13     Rainy        Mild     High  Strong         No"
      ]
     },
     "execution_count": 26,
     "metadata": {},
     "output_type": "execute_result"
    }
   ],
   "source": [
    "df"
   ]
  },
  {
   "cell_type": "code",
   "execution_count": 27,
   "id": "b17de4bf",
   "metadata": {},
   "outputs": [],
   "source": [
    "# Convert categorical data to numerical using OrdinalEncoder\n",
    "encoder = OrdinalEncoder()\n",
    "df_encoded = pd.DataFrame(encoder.fit_transform(df[['Outlook', 'Temperature', 'Humidity', 'Wind']]), columns=['Outlook', 'Temperature', 'Humidity', 'Wind'])\n",
    "df_encoded['PlayTennis'] = df['PlayTennis']"
   ]
  },
  {
   "cell_type": "code",
   "execution_count": 28,
   "id": "680c799f",
   "metadata": {},
   "outputs": [
    {
     "data": {
      "text/html": [
       "<div>\n",
       "<style scoped>\n",
       "    .dataframe tbody tr th:only-of-type {\n",
       "        vertical-align: middle;\n",
       "    }\n",
       "\n",
       "    .dataframe tbody tr th {\n",
       "        vertical-align: top;\n",
       "    }\n",
       "\n",
       "    .dataframe thead th {\n",
       "        text-align: right;\n",
       "    }\n",
       "</style>\n",
       "<table border=\"1\" class=\"dataframe\">\n",
       "  <thead>\n",
       "    <tr style=\"text-align: right;\">\n",
       "      <th></th>\n",
       "      <th>Outlook</th>\n",
       "      <th>Temperature</th>\n",
       "      <th>Humidity</th>\n",
       "      <th>Wind</th>\n",
       "      <th>PlayTennis</th>\n",
       "    </tr>\n",
       "  </thead>\n",
       "  <tbody>\n",
       "    <tr>\n",
       "      <th>0</th>\n",
       "      <td>2.0</td>\n",
       "      <td>1.0</td>\n",
       "      <td>0.0</td>\n",
       "      <td>1.0</td>\n",
       "      <td>No</td>\n",
       "    </tr>\n",
       "    <tr>\n",
       "      <th>1</th>\n",
       "      <td>2.0</td>\n",
       "      <td>1.0</td>\n",
       "      <td>0.0</td>\n",
       "      <td>0.0</td>\n",
       "      <td>No</td>\n",
       "    </tr>\n",
       "    <tr>\n",
       "      <th>2</th>\n",
       "      <td>0.0</td>\n",
       "      <td>1.0</td>\n",
       "      <td>0.0</td>\n",
       "      <td>1.0</td>\n",
       "      <td>Yes</td>\n",
       "    </tr>\n",
       "    <tr>\n",
       "      <th>3</th>\n",
       "      <td>1.0</td>\n",
       "      <td>2.0</td>\n",
       "      <td>0.0</td>\n",
       "      <td>1.0</td>\n",
       "      <td>Yes</td>\n",
       "    </tr>\n",
       "    <tr>\n",
       "      <th>4</th>\n",
       "      <td>1.0</td>\n",
       "      <td>0.0</td>\n",
       "      <td>1.0</td>\n",
       "      <td>1.0</td>\n",
       "      <td>Yes</td>\n",
       "    </tr>\n",
       "    <tr>\n",
       "      <th>5</th>\n",
       "      <td>1.0</td>\n",
       "      <td>0.0</td>\n",
       "      <td>1.0</td>\n",
       "      <td>0.0</td>\n",
       "      <td>No</td>\n",
       "    </tr>\n",
       "    <tr>\n",
       "      <th>6</th>\n",
       "      <td>0.0</td>\n",
       "      <td>0.0</td>\n",
       "      <td>1.0</td>\n",
       "      <td>0.0</td>\n",
       "      <td>Yes</td>\n",
       "    </tr>\n",
       "    <tr>\n",
       "      <th>7</th>\n",
       "      <td>2.0</td>\n",
       "      <td>2.0</td>\n",
       "      <td>0.0</td>\n",
       "      <td>1.0</td>\n",
       "      <td>No</td>\n",
       "    </tr>\n",
       "    <tr>\n",
       "      <th>8</th>\n",
       "      <td>2.0</td>\n",
       "      <td>0.0</td>\n",
       "      <td>1.0</td>\n",
       "      <td>1.0</td>\n",
       "      <td>Yes</td>\n",
       "    </tr>\n",
       "    <tr>\n",
       "      <th>9</th>\n",
       "      <td>1.0</td>\n",
       "      <td>2.0</td>\n",
       "      <td>1.0</td>\n",
       "      <td>1.0</td>\n",
       "      <td>Yes</td>\n",
       "    </tr>\n",
       "    <tr>\n",
       "      <th>10</th>\n",
       "      <td>2.0</td>\n",
       "      <td>2.0</td>\n",
       "      <td>1.0</td>\n",
       "      <td>0.0</td>\n",
       "      <td>Yes</td>\n",
       "    </tr>\n",
       "    <tr>\n",
       "      <th>11</th>\n",
       "      <td>0.0</td>\n",
       "      <td>2.0</td>\n",
       "      <td>0.0</td>\n",
       "      <td>0.0</td>\n",
       "      <td>Yes</td>\n",
       "    </tr>\n",
       "    <tr>\n",
       "      <th>12</th>\n",
       "      <td>0.0</td>\n",
       "      <td>1.0</td>\n",
       "      <td>1.0</td>\n",
       "      <td>1.0</td>\n",
       "      <td>Yes</td>\n",
       "    </tr>\n",
       "    <tr>\n",
       "      <th>13</th>\n",
       "      <td>1.0</td>\n",
       "      <td>2.0</td>\n",
       "      <td>0.0</td>\n",
       "      <td>0.0</td>\n",
       "      <td>No</td>\n",
       "    </tr>\n",
       "  </tbody>\n",
       "</table>\n",
       "</div>"
      ],
      "text/plain": [
       "    Outlook  Temperature  Humidity  Wind PlayTennis\n",
       "0       2.0          1.0       0.0   1.0         No\n",
       "1       2.0          1.0       0.0   0.0         No\n",
       "2       0.0          1.0       0.0   1.0        Yes\n",
       "3       1.0          2.0       0.0   1.0        Yes\n",
       "4       1.0          0.0       1.0   1.0        Yes\n",
       "5       1.0          0.0       1.0   0.0         No\n",
       "6       0.0          0.0       1.0   0.0        Yes\n",
       "7       2.0          2.0       0.0   1.0         No\n",
       "8       2.0          0.0       1.0   1.0        Yes\n",
       "9       1.0          2.0       1.0   1.0        Yes\n",
       "10      2.0          2.0       1.0   0.0        Yes\n",
       "11      0.0          2.0       0.0   0.0        Yes\n",
       "12      0.0          1.0       1.0   1.0        Yes\n",
       "13      1.0          2.0       0.0   0.0         No"
      ]
     },
     "execution_count": 28,
     "metadata": {},
     "output_type": "execute_result"
    }
   ],
   "source": [
    "df_encoded"
   ]
  },
  {
   "cell_type": "code",
   "execution_count": 29,
   "id": "80cfad62",
   "metadata": {},
   "outputs": [
    {
     "data": {
      "text/html": [
       "<style>#sk-container-id-2 {color: black;}#sk-container-id-2 pre{padding: 0;}#sk-container-id-2 div.sk-toggleable {background-color: white;}#sk-container-id-2 label.sk-toggleable__label {cursor: pointer;display: block;width: 100%;margin-bottom: 0;padding: 0.3em;box-sizing: border-box;text-align: center;}#sk-container-id-2 label.sk-toggleable__label-arrow:before {content: \"▸\";float: left;margin-right: 0.25em;color: #696969;}#sk-container-id-2 label.sk-toggleable__label-arrow:hover:before {color: black;}#sk-container-id-2 div.sk-estimator:hover label.sk-toggleable__label-arrow:before {color: black;}#sk-container-id-2 div.sk-toggleable__content {max-height: 0;max-width: 0;overflow: hidden;text-align: left;background-color: #f0f8ff;}#sk-container-id-2 div.sk-toggleable__content pre {margin: 0.2em;color: black;border-radius: 0.25em;background-color: #f0f8ff;}#sk-container-id-2 input.sk-toggleable__control:checked~div.sk-toggleable__content {max-height: 200px;max-width: 100%;overflow: auto;}#sk-container-id-2 input.sk-toggleable__control:checked~label.sk-toggleable__label-arrow:before {content: \"▾\";}#sk-container-id-2 div.sk-estimator input.sk-toggleable__control:checked~label.sk-toggleable__label {background-color: #d4ebff;}#sk-container-id-2 div.sk-label input.sk-toggleable__control:checked~label.sk-toggleable__label {background-color: #d4ebff;}#sk-container-id-2 input.sk-hidden--visually {border: 0;clip: rect(1px 1px 1px 1px);clip: rect(1px, 1px, 1px, 1px);height: 1px;margin: -1px;overflow: hidden;padding: 0;position: absolute;width: 1px;}#sk-container-id-2 div.sk-estimator {font-family: monospace;background-color: #f0f8ff;border: 1px dotted black;border-radius: 0.25em;box-sizing: border-box;margin-bottom: 0.5em;}#sk-container-id-2 div.sk-estimator:hover {background-color: #d4ebff;}#sk-container-id-2 div.sk-parallel-item::after {content: \"\";width: 100%;border-bottom: 1px solid gray;flex-grow: 1;}#sk-container-id-2 div.sk-label:hover label.sk-toggleable__label {background-color: #d4ebff;}#sk-container-id-2 div.sk-serial::before {content: \"\";position: absolute;border-left: 1px solid gray;box-sizing: border-box;top: 0;bottom: 0;left: 50%;z-index: 0;}#sk-container-id-2 div.sk-serial {display: flex;flex-direction: column;align-items: center;background-color: white;padding-right: 0.2em;padding-left: 0.2em;position: relative;}#sk-container-id-2 div.sk-item {position: relative;z-index: 1;}#sk-container-id-2 div.sk-parallel {display: flex;align-items: stretch;justify-content: center;background-color: white;position: relative;}#sk-container-id-2 div.sk-item::before, #sk-container-id-2 div.sk-parallel-item::before {content: \"\";position: absolute;border-left: 1px solid gray;box-sizing: border-box;top: 0;bottom: 0;left: 50%;z-index: -1;}#sk-container-id-2 div.sk-parallel-item {display: flex;flex-direction: column;z-index: 1;position: relative;background-color: white;}#sk-container-id-2 div.sk-parallel-item:first-child::after {align-self: flex-end;width: 50%;}#sk-container-id-2 div.sk-parallel-item:last-child::after {align-self: flex-start;width: 50%;}#sk-container-id-2 div.sk-parallel-item:only-child::after {width: 0;}#sk-container-id-2 div.sk-dashed-wrapped {border: 1px dashed gray;margin: 0 0.4em 0.5em 0.4em;box-sizing: border-box;padding-bottom: 0.4em;background-color: white;}#sk-container-id-2 div.sk-label label {font-family: monospace;font-weight: bold;display: inline-block;line-height: 1.2em;}#sk-container-id-2 div.sk-label-container {text-align: center;}#sk-container-id-2 div.sk-container {/* jupyter's `normalize.less` sets `[hidden] { display: none; }` but bootstrap.min.css set `[hidden] { display: none !important; }` so we also need the `!important` here to be able to override the default hidden behavior on the sphinx rendered scikit-learn.org. See: https://github.com/scikit-learn/scikit-learn/issues/21755 */display: inline-block !important;position: relative;}#sk-container-id-2 div.sk-text-repr-fallback {display: none;}</style><div id=\"sk-container-id-2\" class=\"sk-top-container\"><div class=\"sk-text-repr-fallback\"><pre>CategoricalNB()</pre><b>In a Jupyter environment, please rerun this cell to show the HTML representation or trust the notebook. <br />On GitHub, the HTML representation is unable to render, please try loading this page with nbviewer.org.</b></div><div class=\"sk-container\" hidden><div class=\"sk-item\"><div class=\"sk-estimator sk-toggleable\"><input class=\"sk-toggleable__control sk-hidden--visually\" id=\"sk-estimator-id-2\" type=\"checkbox\" checked><label for=\"sk-estimator-id-2\" class=\"sk-toggleable__label sk-toggleable__label-arrow\">CategoricalNB</label><div class=\"sk-toggleable__content\"><pre>CategoricalNB()</pre></div></div></div></div></div>"
      ],
      "text/plain": [
       "CategoricalNB()"
      ]
     },
     "execution_count": 29,
     "metadata": {},
     "output_type": "execute_result"
    }
   ],
   "source": [
    "# Train the Naive Bayes model\n",
    "X = df_encoded[['Outlook', 'Temperature', 'Humidity', 'Wind']]\n",
    "y = df_encoded['PlayTennis']\n",
    "\n",
    "naive_bayes_model = CategoricalNB()\n",
    "naive_bayes_model.fit(X, y)"
   ]
  },
  {
   "cell_type": "code",
   "execution_count": 30,
   "id": "7e83c192",
   "metadata": {},
   "outputs": [],
   "source": [
    "# Store the test case conditions in new_cases\n",
    "new_cases = pd.DataFrame({'Outlook': ['Sunny', 'Overcast'],\n",
    "                           'Temperature': ['Hot', 'Mild'],\n",
    "                           'Humidity': ['High', 'High'],\n",
    "                           'Wind': ['Strong', 'Strong']})"
   ]
  },
  {
   "cell_type": "code",
   "execution_count": 31,
   "id": "967c4ae9",
   "metadata": {},
   "outputs": [],
   "source": [
    "# Encode the new cases\n",
    "new_cases_encoded = pd.DataFrame(encoder.transform(new_cases), columns=['Outlook', 'Temperature', 'Humidity', 'Wind'])"
   ]
  },
  {
   "cell_type": "code",
   "execution_count": 32,
   "id": "dc1835d6",
   "metadata": {},
   "outputs": [
    {
     "data": {
      "text/html": [
       "<div>\n",
       "<style scoped>\n",
       "    .dataframe tbody tr th:only-of-type {\n",
       "        vertical-align: middle;\n",
       "    }\n",
       "\n",
       "    .dataframe tbody tr th {\n",
       "        vertical-align: top;\n",
       "    }\n",
       "\n",
       "    .dataframe thead th {\n",
       "        text-align: right;\n",
       "    }\n",
       "</style>\n",
       "<table border=\"1\" class=\"dataframe\">\n",
       "  <thead>\n",
       "    <tr style=\"text-align: right;\">\n",
       "      <th></th>\n",
       "      <th>Outlook</th>\n",
       "      <th>Temperature</th>\n",
       "      <th>Humidity</th>\n",
       "      <th>Wind</th>\n",
       "    </tr>\n",
       "  </thead>\n",
       "  <tbody>\n",
       "    <tr>\n",
       "      <th>0</th>\n",
       "      <td>2.0</td>\n",
       "      <td>1.0</td>\n",
       "      <td>0.0</td>\n",
       "      <td>0.0</td>\n",
       "    </tr>\n",
       "    <tr>\n",
       "      <th>1</th>\n",
       "      <td>0.0</td>\n",
       "      <td>2.0</td>\n",
       "      <td>0.0</td>\n",
       "      <td>0.0</td>\n",
       "    </tr>\n",
       "  </tbody>\n",
       "</table>\n",
       "</div>"
      ],
      "text/plain": [
       "   Outlook  Temperature  Humidity  Wind\n",
       "0      2.0          1.0       0.0   0.0\n",
       "1      0.0          2.0       0.0   0.0"
      ]
     },
     "execution_count": 32,
     "metadata": {},
     "output_type": "execute_result"
    }
   ],
   "source": [
    "new_cases_encoded"
   ]
  },
  {
   "cell_type": "code",
   "execution_count": 33,
   "id": "6e463f8e",
   "metadata": {},
   "outputs": [
    {
     "name": "stdout",
     "output_type": "stream",
     "text": [
      "\n",
      "Case 1: {'Outlook': 'Sunny', 'Temperature': 'Hot', 'Humidity': 'High', 'Wind': 'Strong'} - \n",
      "\tPredicted Play Tennis: No\n",
      "\n",
      "Case 2: {'Outlook': 'Overcast', 'Temperature': 'Mild', 'Humidity': 'High', 'Wind': 'Strong'} - \n",
      "\tPredicted Play Tennis: Yes\n"
     ]
    }
   ],
   "source": [
    "# Make predictions\n",
    "predictions = naive_bayes_model.predict(new_cases_encoded)\n",
    "\n",
    "for i in range(len(new_cases)):\n",
    "    cases = {}\n",
    "    for column in new_cases.columns:\n",
    "        cases[column] = new_cases.loc[i, column]\n",
    "    \n",
    "    print(f\"\\nCase {i + 1}: {cases} - \\n\\tPredicted Play Tennis: {predictions[i]}\")\n"
   ]
  },
  {
   "cell_type": "code",
   "execution_count": null,
   "id": "1cdbaec1",
   "metadata": {},
   "outputs": [],
   "source": []
  }
 ],
 "metadata": {
  "kernelspec": {
   "display_name": "Python 3 (ipykernel)",
   "language": "python",
   "name": "python3"
  },
  "language_info": {
   "codemirror_mode": {
    "name": "ipython",
    "version": 3
   },
   "file_extension": ".py",
   "mimetype": "text/x-python",
   "name": "python",
   "nbconvert_exporter": "python",
   "pygments_lexer": "ipython3",
   "version": "3.11.4"
  }
 },
 "nbformat": 4,
 "nbformat_minor": 5
}
